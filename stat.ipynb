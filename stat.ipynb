{
  "nbformat": 4,
  "nbformat_minor": 0,
  "metadata": {
    "colab": {
      "provenance": [],
      "authorship_tag": "ABX9TyMa7mivCpb/sLUfrMWQD/ng",
      "include_colab_link": true
    },
    "kernelspec": {
      "name": "python3",
      "display_name": "Python 3"
    },
    "language_info": {
      "name": "python"
    }
  },
  "cells": [
    {
      "cell_type": "markdown",
      "metadata": {
        "id": "view-in-github",
        "colab_type": "text"
      },
      "source": [
        "<a href=\"https://colab.research.google.com/github/sheetalljo/dsa_activities/blob/main/stat.ipynb\" target=\"_parent\"><img src=\"https://colab.research.google.com/assets/colab-badge.svg\" alt=\"Open In Colab\"/></a>"
      ]
    },
    {
      "cell_type": "markdown",
      "source": [
        "# Answer the following questions using only builtin Python datatypes and functions. Do not use Numpy or Scipy (i.e. No library imports allowed)"
      ],
      "metadata": {
        "id": "tSaglM6Rdgip"
      }
    },
    {
      "cell_type": "markdown",
      "source": [
        "Q1. Write a function that return the range (maximum and minimun) of a given list of numbers"
      ],
      "metadata": {
        "id": "Tva2nv_fdq8r"
      }
    },
    {
      "cell_type": "code",
      "execution_count": 3,
      "metadata": {
        "colab": {
          "base_uri": "https://localhost:8080/"
        },
        "id": "sn3ZRI13dKVJ",
        "outputId": "39de4eb4-a15f-4b08-b4f9-c75082b5ecfa"
      },
      "outputs": [
        {
          "output_type": "stream",
          "name": "stdout",
          "text": [
            "Enter integers seperated by commas: 77,0,-3,10\n",
            "The range of the list is:  77 , -3\n"
          ]
        }
      ],
      "source": [
        "numbers = list(input('Enter integers seperated by commas: ').split(','))\n",
        "max_value = max(numbers)\n",
        "min_value = min(numbers)\n",
        "print('The range of the list is: ', max_value,',',min_value)"
      ]
    },
    {
      "cell_type": "markdown",
      "source": [
        "Q2. Write function that returns mean value of a list of numbers"
      ],
      "metadata": {
        "id": "TOeUCHC7jb0m"
      }
    },
    {
      "cell_type": "code",
      "source": [
        "numbers_str = input('Enter integers seperated by commas: ').split(',')\n",
        "numbers = [int(num) for num in numbers_str]\n",
        "mean_value = sum(numbers)/len(numbers)\n",
        "print('The mean value is: ',mean_value)"
      ],
      "metadata": {
        "colab": {
          "base_uri": "https://localhost:8080/"
        },
        "id": "PFC-o-DXhiBw",
        "outputId": "d071b8ed-82b5-46d4-d560-14d6aab81d88"
      },
      "execution_count": 6,
      "outputs": [
        {
          "output_type": "stream",
          "name": "stdout",
          "text": [
            "Enter integers seperated by commas: 99,-55,0,5,15\n",
            "The mean value is:  12.8\n"
          ]
        }
      ]
    },
    {
      "cell_type": "markdown",
      "source": [
        "Q3. Write a function that returns the median value of a list of numbers"
      ],
      "metadata": {
        "id": "wVAmTkWck1XU"
      }
    },
    {
      "cell_type": "code",
      "source": [
        "numbers_str = input('Enter integers seperated by commas: ').split(',')\n",
        "numbers = [int(num) for num in numbers_str]\n",
        "sorted_numbers = sorted(numbers)\n",
        "n = len(sorted_numbers)\n",
        "if n % 2 ==0:\n",
        "    median_value = (sorted_numbers[n//2-1]+sorted_numbers[n//2])/2\n",
        "else:\n",
        "    median_value=sorted_numbers[n//2]\n",
        "\n",
        "print('Median: ',median_value)"
      ],
      "metadata": {
        "colab": {
          "base_uri": "https://localhost:8080/"
        },
        "id": "8HfujIgxj2zG",
        "outputId": "0aa82bfc-ff9b-4dc8-90e4-aaca9c0f78b1"
      },
      "execution_count": 9,
      "outputs": [
        {
          "output_type": "stream",
          "name": "stdout",
          "text": [
            "Enter integers seperated by commas: 1,2,3,0,99,4,3\n",
            "Median:  3\n"
          ]
        }
      ]
    },
    {
      "cell_type": "markdown",
      "source": [
        "Q4. Write a function to return the mod of a list of numbers, if no mod exists, it should return None. If more than one mod exist, return the mod values as list"
      ],
      "metadata": {
        "id": "iJLNhwUqniBH"
      }
    },
    {
      "cell_type": "code",
      "source": [
        "numbers = list(map(float, input('Enter the numbers seperated by commas: ').split(',')))\n",
        "frequency = {}\n",
        "for num in numbers:\n",
        "  frequency[num] = frequency.get(num,0)+1\n",
        "max_count = max(frequency.values())\n",
        "modes = [num for num, count in frequency.items() if count == max_count]\n",
        "if max_count == 1:\n",
        "  print('no mode exists')\n",
        "else:\n",
        "  print(f'mode: {modes} and its frequency is {max_count}')"
      ],
      "metadata": {
        "colab": {
          "base_uri": "https://localhost:8080/"
        },
        "id": "AzyKexNOlgWo",
        "outputId": "c750f679-2685-4de5-a733-cd6e21a5b0df"
      },
      "execution_count": 11,
      "outputs": [
        {
          "output_type": "stream",
          "name": "stdout",
          "text": [
            "Enter the numbers seperated by commas: 8,7,8,7,0,6,5\n",
            "mode: [8.0, 7.0] and its frequency is 2\n"
          ]
        }
      ]
    },
    {
      "cell_type": "markdown",
      "source": [
        "Q5. Write function to compute a given percentile value (e.g. 90th percentile) of a list of numbers"
      ],
      "metadata": {
        "id": "AvKU1PC8tKfa"
      }
    },
    {
      "cell_type": "code",
      "source": [
        "numbers = list(map(float, input(\"Enter numbers separated by commas: \").split(',')))\n",
        "p = float(input(\"Enter percentile (0-100): \"))\n",
        "numbers.sort()\n",
        "index = (p / 100) * (len(numbers) - 1)\n",
        "if index.is_integer():\n",
        "    percentile_value = numbers[int(index)]\n",
        "else:\n",
        "    lower = numbers[int(index)]\n",
        "    upper = numbers[int(index) + 1]\n",
        "    fraction = index - int(index)\n",
        "    percentile_value = lower + (upper - lower) * fraction\n",
        "\n",
        "print(f\"{p}th Percentile value:\", percentile_value)\n"
      ],
      "metadata": {
        "colab": {
          "base_uri": "https://localhost:8080/"
        },
        "id": "BVI70gAgq2pV",
        "outputId": "01d59e34-f4bf-46d7-f010-140892370771"
      },
      "execution_count": 13,
      "outputs": [
        {
          "output_type": "stream",
          "name": "stdout",
          "text": [
            "Enter numbers separated by commas: 9,0,8,3,13,12\n",
            "Enter percentile (0-100): 90\n",
            "90.0th Percentile value: 12.5\n"
          ]
        }
      ]
    },
    {
      "cell_type": "markdown",
      "source": [
        "Q6. Write a function that returns the lower bound of a list of numbers"
      ],
      "metadata": {
        "id": "PM-thcuJtNL3"
      }
    },
    {
      "cell_type": "code",
      "source": [
        "def get_lower_bound():\n",
        "    data = list(map(float, input(\"Enter numbers separated by spaces: \").split()))\n",
        "\n",
        "    index = int(input(\"Enter the index position: \"))\n",
        "\n",
        "    sorted_data = sorted(data)\n",
        "\n",
        "    if 0 <= index < len(sorted_data):\n",
        "        return sorted_data[index]\n",
        "    else:\n",
        "        return \"Index out of range\"\n",
        "lower_bound_value = get_lower_bound()\n",
        "print(\"Lower bound value:\", lower_bound_value)\n"
      ],
      "metadata": {
        "colab": {
          "base_uri": "https://localhost:8080/"
        },
        "id": "OJqvjly1tMoo",
        "outputId": "d0c7b74b-593a-4cdb-a606-e400adcdf796"
      },
      "execution_count": 33,
      "outputs": [
        {
          "output_type": "stream",
          "name": "stdout",
          "text": [
            "Enter numbers separated by spaces: 4 6 99 4 5\n",
            "Enter the index position: 2\n",
            "Lower bound value: 5.0\n"
          ]
        }
      ]
    },
    {
      "cell_type": "markdown",
      "source": [
        "Q7. Write function to return any outliers from a given list of numbers, if no outliers present it should return None\n"
      ],
      "metadata": {
        "id": "cUqHzckwtS5X"
      }
    },
    {
      "cell_type": "code",
      "source": [
        "nums = list(map(float, input(\"Enter numbers separated by commas: \").split(',')))\n",
        "def find_outliers(data):\n",
        "    if not data:\n",
        "        return None\n",
        "    sorted_data = sorted(data)\n",
        "    n = len(sorted_data)\n",
        "    def median(lst):\n",
        "        m = len(lst)\n",
        "        if m % 2 == 0:\n",
        "            return (lst[m//2 - 1] + lst[m//2]) / 2\n",
        "        else:\n",
        "            return lst[m//2]\n",
        "    if n % 2 == 0:\n",
        "        lower_half = sorted_data[:n//2]\n",
        "        upper_half = sorted_data[n//2:]\n",
        "    else:\n",
        "        lower_half = sorted_data[:n//2]\n",
        "        upper_half = sorted_data[n//2+1:]\n",
        "\n",
        "    Q1 = median(lower_half)\n",
        "    Q3 = median(upper_half)\n",
        "    IQR = Q3 - Q1\n",
        "    lower_bound = Q1 - 1.5 * IQR\n",
        "    upper_bound = Q3 + 1.5 * IQR\n",
        "    outliers = [x for x in sorted_data if x < lower_bound or x > upper_bound]\n",
        "    return outliers if outliers else None\n",
        "result = find_outliers(nums)\n",
        "print(\"Outliers:\", result)\n"
      ],
      "metadata": {
        "colab": {
          "base_uri": "https://localhost:8080/"
        },
        "id": "7-J92_kntXg0",
        "outputId": "84f0b25b-a492-4ce4-f6f9-2ed797b1aa30"
      },
      "execution_count": 21,
      "outputs": [
        {
          "output_type": "stream",
          "name": "stdout",
          "text": [
            "Enter numbers separated by commas: 1,2,3,4,500\n",
            "Outliers: None\n"
          ]
        }
      ]
    },
    {
      "cell_type": "markdown",
      "source": [
        "Q8. Write a function to return standard deviation of a list of numbers"
      ],
      "metadata": {
        "id": "y9OHd73Xtbr-"
      }
    },
    {
      "cell_type": "code",
      "source": [
        "def standard_deviation(data):\n",
        "    n = len(data)\n",
        "    if n == 0:\n",
        "        return None\n",
        "    mean = sum(data) / n\n",
        "\n",
        "    variance = sum((x - mean) ** 2 for x in data) / n\n",
        "\n",
        "    std_dev = variance ** 0.5\n",
        "\n",
        "    return std_dev\n",
        "\n",
        "nums = list(map(float, input(\"Enter numbers separated by spaces: \").split()))\n",
        "result = standard_deviation(nums)\n",
        "print(\"Standard Deviation:\", result)\n"
      ],
      "metadata": {
        "colab": {
          "base_uri": "https://localhost:8080/"
        },
        "id": "Z3pU17XPtc86",
        "outputId": "889edb39-8eb2-464c-ad9c-08bfeb3f3e5e"
      },
      "execution_count": 24,
      "outputs": [
        {
          "output_type": "stream",
          "name": "stdout",
          "text": [
            "Enter numbers separated by spaces: 5 6 3 2 55 700\n",
            "Standard Deviation: 256.26337363475625\n"
          ]
        }
      ]
    },
    {
      "cell_type": "markdown",
      "source": [
        "Q9. Write function to compute and return Z-score values of a list of numbers"
      ],
      "metadata": {
        "id": "BTaE_RfqtgFS"
      }
    },
    {
      "cell_type": "code",
      "source": [
        "nums = list(map(float, input(\"Enter numbers separated by commmas: \").split(',')))\n",
        "def z_scores(data):\n",
        "    n = len(data)\n",
        "    if n == 0:\n",
        "        return None\n",
        "    mean = sum(data) / n\n",
        "\n",
        "    variance = sum((x - mean) ** 2 for x in data) / n\n",
        "    std_dev = variance ** 0.5\n",
        "\n",
        "    if std_dev == 0:\n",
        "        return [0] * n\n",
        "    return [(x - mean) / std_dev for x in data]\n",
        "\n",
        "result = z_scores(nums)\n",
        "print(\"Z-scores:\", result)\n"
      ],
      "metadata": {
        "colab": {
          "base_uri": "https://localhost:8080/"
        },
        "id": "-NVcThgathaI",
        "outputId": "c405ef13-4a47-424f-e57f-3c7511ee9c92"
      },
      "execution_count": 28,
      "outputs": [
        {
          "output_type": "stream",
          "name": "stdout",
          "text": [
            "Enter numbers separated by commmas: 2,3,4,100,4,2,3,2\n",
            "Z-scores: [-0.40452535760809166, -0.37340802240746923, -0.3422906872068468, 2.644973492052907, -0.3422906872068468, -0.40452535760809166, -0.37340802240746923, -0.40452535760809166]\n"
          ]
        }
      ]
    },
    {
      "cell_type": "markdown",
      "source": [
        "Q10. Write a function to compute and return the Pearson correlation coefficient value of two list of numbers"
      ],
      "metadata": {
        "id": "RYikZezOtmO0"
      }
    },
    {
      "cell_type": "code",
      "source": [
        "x_values = list(map(float, input(\"Enter X values separated by spaces: \").split()))\n",
        "y_values = list(map(float, input(\"Enter Y values separated by spaces: \").split()))\n",
        "\n",
        "def pearson_correlation(x, y):\n",
        "    n = len(x)\n",
        "\n",
        "    if n == 0 or n != len(y):\n",
        "        return None\n",
        "\n",
        "    mean_x = sum(x) / n\n",
        "    mean_y = sum(y) / n\n",
        "\n",
        "    numerator = sum((x[i] - mean_x) * (y[i] - mean_y) for i in range(n))\n",
        "\n",
        "    denominator = (sum((x[i] - mean_x) ** 2 for i in range(n)) *\n",
        "                   sum((y[i] - mean_y) ** 2 for i in range(n))) ** 0.5\n",
        "\n",
        "    if denominator == 0:\n",
        "        return None\n",
        "\n",
        "    return numerator / denominator\n",
        "\n",
        "result = pearson_correlation(x_values, y_values)\n",
        "print(\"Pearson Correlation Coefficient:\", result)\n"
      ],
      "metadata": {
        "colab": {
          "base_uri": "https://localhost:8080/"
        },
        "id": "kTvFiWbatnhj",
        "outputId": "4d205a41-88e3-492d-da2e-daee42d8497e"
      },
      "execution_count": 32,
      "outputs": [
        {
          "output_type": "stream",
          "name": "stdout",
          "text": [
            "Enter X values separated by spaces: 56 88 99 8 8 0\n",
            "Enter Y values separated by spaces: 88 77 6 7 8 9\n",
            "Pearson Correlation Coefficient: 0.46871475175126875\n"
          ]
        }
      ]
    },
    {
      "cell_type": "code",
      "source": [],
      "metadata": {
        "id": "Y3o3zGLx-2sP"
      },
      "execution_count": null,
      "outputs": []
    }
  ]
}