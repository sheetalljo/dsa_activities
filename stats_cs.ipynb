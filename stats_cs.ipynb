{
  "nbformat": 4,
  "nbformat_minor": 0,
  "metadata": {
    "colab": {
      "provenance": [],
      "authorship_tag": "ABX9TyMhFg5zK62Z7W1kfZps5YZf",
      "include_colab_link": true
    },
    "kernelspec": {
      "name": "python3",
      "display_name": "Python 3"
    },
    "language_info": {
      "name": "python"
    }
  },
  "cells": [
    {
      "cell_type": "markdown",
      "metadata": {
        "id": "view-in-github",
        "colab_type": "text"
      },
      "source": [
        "<a href=\"https://colab.research.google.com/github/sheetalljo/dsa_activities/blob/main/stats_cs.ipynb\" target=\"_parent\"><img src=\"https://colab.research.google.com/assets/colab-badge.svg\" alt=\"Open In Colab\"/></a>"
      ]
    },
    {
      "cell_type": "code",
      "execution_count": null,
      "metadata": {
        "colab": {
          "base_uri": "https://localhost:8080/"
        },
        "id": "KhpRaTtgt3Hz",
        "outputId": "7386a5a7-5121-4fa2-e9e7-bda147e5294d"
      },
      "outputs": [
        {
          "output_type": "stream",
          "name": "stdout",
          "text": [
            "mean:  15.916666666666666\n",
            "median:  15.5\n",
            "mode:  [15]\n",
            "range:  12\n",
            "variance:  12.083333333333332\n"
          ]
        }
      ],
      "source": [
        "#1\n",
        "temprature = [12,15,14,16,18,20,22,19,17,15,13,10]\n",
        "n =len(temprature)\n",
        "mean = sum(temprature)/n\n",
        "\n",
        "sorted_temp = sorted(temprature)\n",
        "if n%2==0:\n",
        "  median = (sorted_temp[n//2-1]+ sorted_temp[n//2]) / 2\n",
        "else:\n",
        "  median = sorted_temp[n//2]\n",
        "\n",
        "freq = {}\n",
        "for t in temprature:\n",
        "  freq[t] = freq.get(t,0)+1\n",
        "max_freq=max(freq.values())\n",
        "mode = [k for k, v in freq.items() if v== max_freq]\n",
        "\n",
        "range = max(temprature) - min(temprature)\n",
        "\n",
        "variance = sum((x - mean)**2 for x in temprature) / (n-1)\n",
        "\n",
        "print('mean: ', mean)\n",
        "print('median: ', median)\n",
        "print('mode: ', mode)\n",
        "print('range: ', range)\n",
        "print('variance: ', variance)"
      ]
    },
    {
      "cell_type": "code",
      "source": [
        "#2\n",
        "heights = [150,160,165,170,155,160,162,168]\n",
        "range = max(heights) - min(heights)\n",
        "variance = sum((x - mean)**2 for x in heights) / (n-1)\n",
        "standard_dev = variance ** 0.5\n",
        "\n",
        "print('range: ', range)\n",
        "print('variance: ', variance)\n",
        "print('standard deviation: ', standard_dev)"
      ],
      "metadata": {
        "colab": {
          "base_uri": "https://localhost:8080/"
        },
        "id": "fBXDOvlKzFGL",
        "outputId": "438366dc-b6a0-44b2-b358-773a7a7fc7cd"
      },
      "execution_count": null,
      "outputs": [
        {
          "output_type": "stream",
          "name": "stdout",
          "text": [
            "range:  20\n",
            "variance:  15389.065656565659\n",
            "standard deviation:  124.0526729118146\n"
          ]
        }
      ]
    },
    {
      "cell_type": "code",
      "source": [
        "#3\n",
        "week_exp = [200,250,300,220,270,290,310]\n",
        "variance = sum((x - mean)**2 for x in week_exp) / (n-1)\n",
        "standard_dev = variance ** 0.5\n",
        "\n",
        "print('variance: ', variance)\n",
        "print('standard deviation: ', standard_dev)"
      ],
      "metadata": {
        "colab": {
          "base_uri": "https://localhost:8080/"
        },
        "id": "_6UXKE5S1_yd",
        "outputId": "7e9edfc3-c08d-4351-da1a-57500a4a9c67"
      },
      "execution_count": null,
      "outputs": [
        {
          "output_type": "stream",
          "name": "stdout",
          "text": [
            "variance:  39745.45896464646\n",
            "standard deviation:  199.36263181611156\n"
          ]
        }
      ]
    },
    {
      "cell_type": "code",
      "source": [
        "#4\n",
        "import statistics as stats\n",
        "\n",
        "X = [10, 20, 15, 25, 30]   # Advertising Spending\n",
        "Y = [100, 150, 120, 180, 200]  # Sales\n",
        "\n",
        "n = len(X)\n",
        "\n",
        "mean_x = stats.mean(X)\n",
        "mean_y = stats.mean(Y)\n",
        "\n",
        "cov_xy = sum((X[i] - mean_x) * (Y[i] - mean_y) for i in range(n)) / (n - 1)\n",
        "\n",
        "std_x = stats.stdev(X)\n",
        "std_y = stats.stdev(Y)\n",
        "corr_xy = cov_xy / (std_x * std_y)\n",
        "\n",
        "print(\"Covariance:\", cov_xy)\n",
        "print(\"Correlation Coefficient:\", corr_xy)\n"
      ],
      "metadata": {
        "colab": {
          "base_uri": "https://localhost:8080/"
        },
        "id": "2P0VsRqoLeJz",
        "outputId": "f9ff350b-6932-462d-f49a-951544e255d7"
      },
      "execution_count": null,
      "outputs": [
        {
          "output_type": "stream",
          "name": "stdout",
          "text": [
            "Covariance: 325.0\n",
            "Correlation Coefficient: 0.9970544855015816\n"
          ]
        }
      ]
    },
    {
      "cell_type": "code",
      "source": [
        "#5\n",
        "import statistics as stats\n",
        "\n",
        "study_hr = [2, 4, 6, 8, 10]\n",
        "exam_scr = [55, 60, 65, 70, 75]\n",
        "\n",
        "mean_hr = stats.mean(study_hr)\n",
        "mean_scr = stats.mean(exam_scr)\n",
        "\n",
        "\n",
        "cov_xy = sum((study_hr[i] - mean_hr) * (exam_scr[i] - mean_scr) for i in range(len(study_hr))) / (len(study_hr) - 1)\n",
        "\n",
        "std_x = stats.stdev(study_hr)\n",
        "std_y = stats.stdev(exam_scr)\n",
        "\n",
        "corr_xy = cov_xy / (std_x * std_y)\n",
        "\n",
        "Q1 = stats.quantiles(exam_scr, n=4, method='inclusive')[0]\n",
        "Q3 = stats.quantiles(exam_scr, n=4, method='inclusive')[2]\n",
        "IQR = Q3 - Q1\n",
        "\n",
        "print(\"Correlation Coefficient:\", corr_xy)\n",
        "print(\"Q1:\", Q1)\n",
        "print(\"Q3:\", Q3)\n",
        "print(\"Interquartile Range (IQR):\", IQR)"
      ],
      "metadata": {
        "colab": {
          "base_uri": "https://localhost:8080/"
        },
        "id": "N7YSox8PGhAv",
        "outputId": "f278ee80-2e95-4675-dd23-578ab6c5cfd2"
      },
      "execution_count": null,
      "outputs": [
        {
          "output_type": "stream",
          "name": "stdout",
          "text": [
            "Correlation Coefficient: 1.0\n",
            "Q1: 60.0\n",
            "Q3: 70.0\n",
            "Interquartile Range (IQR): 10.0\n"
          ]
        }
      ]
    },
    {
      "cell_type": "code",
      "source": [
        "#6\n",
        "import statistics as stats\n",
        "\n",
        "data = [200, 300, 400, 500, 600, 700, 800, 900, 1000, 1100]\n",
        "\n",
        "Q1 = stats.quantiles(data, n=4, method='inclusive')[0]\n",
        "Q3 = stats.quantiles(data, n=4, method='inclusive')[2]\n",
        "\n",
        "IQR = Q3 - Q1\n",
        "\n",
        "lower_bound = Q1 - 1.5 * IQR\n",
        "upper_bound = Q3 + 1.5 * IQR\n",
        "\n",
        "outliers = [x for x in data if x < lower_bound or x > upper_bound]\n",
        "\n",
        "print(\"Q1 (First Quartile):\", Q1)\n",
        "print(\"Q3 (Third Quartile):\", Q3)\n",
        "print(\"Interquartile Range (IQR):\", IQR)\n",
        "print(\"Lower Bound:\", lower_bound)\n",
        "print(\"Upper Bound:\", upper_bound)\n",
        "print(\"Outliers:\", outliers)"
      ],
      "metadata": {
        "colab": {
          "base_uri": "https://localhost:8080/"
        },
        "id": "RNmEWcvVJlbf",
        "outputId": "304c0b7f-003d-4a0e-8580-8d317d1a1316"
      },
      "execution_count": null,
      "outputs": [
        {
          "output_type": "stream",
          "name": "stdout",
          "text": [
            "Q1 (First Quartile): 425.0\n",
            "Q3 (Third Quartile): 875.0\n",
            "Interquartile Range (IQR): 450.0\n",
            "Lower Bound: -250.0\n",
            "Upper Bound: 1550.0\n",
            "Outliers: []\n"
          ]
        }
      ]
    },
    {
      "cell_type": "code",
      "source": [
        "#7\n",
        "import statistics as stats\n",
        "age = [22, 25, 28, 30, 35, 40, 45, 50, 55, 100]\n",
        "\n",
        "Q1 = stats.quantiles(age, n=4, method='inclusive')[0]\n",
        "Q3 = stats.quantiles(age, n=4, method='inclusive')[2]\n",
        "\n",
        "IQR = Q3 - Q1\n",
        "lower_bound = Q1 - 1.5 * IQR\n",
        "upper_bound = Q3 + 1.5 * IQR\n",
        "\n",
        "outliers = [x for x in age if x < lower_bound or x > upper_bound]\n",
        "\n",
        "print('outliers: ', outliers)"
      ],
      "metadata": {
        "colab": {
          "base_uri": "https://localhost:8080/"
        },
        "id": "BrisxbWMLvhv",
        "outputId": "694ce26e-fa1d-4cf0-f748-6fdee5b018c6"
      },
      "execution_count": null,
      "outputs": [
        {
          "output_type": "stream",
          "name": "stdout",
          "text": [
            "outliers:  [100]\n"
          ]
        }
      ]
    },
    {
      "cell_type": "code",
      "source": [
        "#8\n",
        "import math\n",
        "weights = [70, 68, 72, 71, 69, 73, 72, 74, 70, 71]\n",
        "mu = 70  # hypothesized mean\n",
        "n = len(weights)\n",
        "mean = sum(weights) / n\n",
        "variance = sum((x - mean) ** 2 for x in weights) / n\n",
        "std_dev = math.sqrt(variance)\n",
        "z_stat = (mean - mu) / (std_dev / math.sqrt(n))\n",
        "z_scores = [(x - mean) / std_dev for x in weights]\n",
        "print(\"Sample Mean:\", mean)\n",
        "print(\"Standard Deviation:\", std_dev)\n",
        "print(\"Z-test Statistic:\", z_stat)\n",
        "print(\"Z-scores:\", z_scores)\n",
        "\n",
        "#  Decision at 5% significance (two-tailed -> ±1.96)\n",
        "if abs(z_stat) > 1.96:\n",
        "    print(\"Reject H0: Mean is significantly different from 70\")\n",
        "else:\n",
        "  print(\"Fail to reject H0: No significant difference from 70\")"
      ],
      "metadata": {
        "id": "hv7VUfW7Mdwl",
        "colab": {
          "base_uri": "https://localhost:8080/"
        },
        "outputId": "c575abb0-85f6-4f6e-831f-4d8408a35b23"
      },
      "execution_count": 2,
      "outputs": [
        {
          "output_type": "stream",
          "name": "stdout",
          "text": [
            "Sample Mean: 71.0\n",
            "Standard Deviation: 1.7320508075688772\n",
            "Z-test Statistic: 1.8257418583505538\n",
            "Z-scores: [-0.5773502691896258, -1.7320508075688774, 0.5773502691896258, 0.0, -1.1547005383792517, 1.1547005383792517, 0.5773502691896258, 1.7320508075688774, -0.5773502691896258, 0.0]\n",
            "Fail to reject H0: No significant difference from 70\n"
          ]
        }
      ]
    },
    {
      "cell_type": "code",
      "source": [
        "#9\n",
        "\n",
        "import math\n",
        "salaries = [40, 42, 45, 47, 50, 52, 55, 57, 60, 62]\n",
        "n = len(salaries)\n",
        "\n",
        "mean = sum(salaries) / n\n",
        "variance = sum((x - mean) ** 2 for x in salaries) / n\n",
        "std_dev = math.sqrt(variance)\n",
        "\n",
        "#  Z-scores\n",
        "z_scores = [(x - mean) / std_dev for x in salaries]\n",
        "def normal_cdf(z):\n",
        "    return 0.5 * (1 + math.erf(z / math.sqrt(2)))\n",
        "probabilities = [normal_cdf(z) for z in z_scores]\n",
        "print(\"Mean Salary:\", mean)\n",
        "print(\"Standard Deviation:\", std_dev)\n",
        "print(\"Z-scores:\", z_scores)\n",
        "print(\"Probabilities (Normal CDF):\", probabilities)\n",
        "for i, z in enumerate(z_scores):\n",
        "    if z < -2:\n",
        "        interp = \"Very low (below average)\"\n",
        "    elif z < -1:\n",
        "        interp = \"Below average\"\n",
        "    elif z < 1:\n",
        "        interp = \"Around average\"\n",
        "    elif z < 2:\n",
        "        interp = \"Above average\"\n",
        "    else:\n",
        "        interp = \"Very high (far above average)\"\n",
        "    print(f\"Salary {salaries[i]}k -> Z = {round(z,2)} -> {interp}\")"
      ],
      "metadata": {
        "colab": {
          "base_uri": "https://localhost:8080/"
        },
        "id": "QJSHGPnVYcQY",
        "outputId": "b5ba53a2-5803-41f2-95c4-b4b8769e6017"
      },
      "execution_count": 3,
      "outputs": [
        {
          "output_type": "stream",
          "name": "stdout",
          "text": [
            "Mean Salary: 51.0\n",
            "Standard Deviation: 7.14142842854285\n",
            "Z-scores: [-1.5403080924308108, -1.2602520756252087, -0.8401680504168059, -0.5601120336112039, -0.14002800840280097, 0.14002800840280097, 0.5601120336112039, 0.8401680504168059, 1.2602520756252087, 1.5403080924308108]\n",
            "Probabilities (Normal CDF): [0.06174263607227448, 0.10378922116781208, 0.20040708469146723, 0.2877015114563768, 0.4443189304475039, 0.5556810695524961, 0.7122984885436232, 0.7995929153085328, 0.8962107788321879, 0.9382573639277255]\n",
            "Salary 40k -> Z = -1.54 -> Below average\n",
            "Salary 42k -> Z = -1.26 -> Below average\n",
            "Salary 45k -> Z = -0.84 -> Around average\n",
            "Salary 47k -> Z = -0.56 -> Around average\n",
            "Salary 50k -> Z = -0.14 -> Around average\n",
            "Salary 52k -> Z = 0.14 -> Around average\n",
            "Salary 55k -> Z = 0.56 -> Around average\n",
            "Salary 57k -> Z = 0.84 -> Around average\n",
            "Salary 60k -> Z = 1.26 -> Above average\n",
            "Salary 62k -> Z = 1.54 -> Above average\n"
          ]
        }
      ]
    },
    {
      "cell_type": "code",
      "source": [
        "#10\n",
        "import math\n",
        "data = [10, 12, 14, 15, 13, 16, 18, 17, 19, 20]\n",
        "n = len(data)\n",
        "mean = sum(data) / n\n",
        "variance = sum((x - mean) ** 2 for x in data) / (n - 1)\n",
        "std_dev = math.sqrt(variance)\n",
        "mu0 = 0  # hypothesized mean\n",
        "t_stat = (mean - mu0) / (std_dev / math.sqrt(n))\n",
        "df = n - 1\n",
        "p_value = 1 - 0.5 * (1 + math.erf(t_stat / math.sqrt(2)))\n",
        "t_crit = 2.262\n",
        "se = std_dev / math.sqrt(n)\n",
        "ci_lower = mean - t_crit * se\n",
        "ci_upper = mean + t_crit * se\n",
        "\n",
        "print(\"Sample Mean:\", round(mean, 2))\n",
        "print(\"Standard Deviation:\", round(std_dev, 2))\n",
        "print(\"t-statistic:\", round(t_stat, 2))\n",
        "print(\"Degrees of freedom:\", df)\n",
        "print(\"Approx p-value:\", p_value)\n",
        "print(\"95% Confidence Interval: (\", round(ci_lower, 2), \",\", round(ci_upper, 2), \")\")"
      ],
      "metadata": {
        "colab": {
          "base_uri": "https://localhost:8080/"
        },
        "id": "x8zOWP7VYis7",
        "outputId": "fcb5d404-37f0-4da2-8865-b35d4c693423"
      },
      "execution_count": 5,
      "outputs": [
        {
          "output_type": "stream",
          "name": "stdout",
          "text": [
            "Sample Mean: 15.4\n",
            "Standard Deviation: 3.2\n",
            "t-statistic: 15.2\n",
            "Degrees of freedom: 9\n",
            "Approx p-value: 0.0\n",
            "95% Confidence Interval: ( 13.11 , 17.69 )\n"
          ]
        }
      ]
    }
  ]
}