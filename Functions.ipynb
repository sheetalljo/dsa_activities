{
  "nbformat": 4,
  "nbformat_minor": 0,
  "metadata": {
    "colab": {
      "provenance": [],
      "include_colab_link": true
    },
    "kernelspec": {
      "name": "python3",
      "display_name": "Python 3"
    },
    "language_info": {
      "name": "python"
    }
  },
  "cells": [
    {
      "cell_type": "markdown",
      "metadata": {
        "id": "view-in-github",
        "colab_type": "text"
      },
      "source": [
        "<a href=\"https://colab.research.google.com/github/sheetalljo/dsa_activities/blob/main/Functions.ipynb\" target=\"_parent\"><img src=\"https://colab.research.google.com/assets/colab-badge.svg\" alt=\"Open In Colab\"/></a>"
      ]
    },
    {
      "cell_type": "markdown",
      "source": [
        "Functions"
      ],
      "metadata": {
        "id": "_fKHMB9ztIcU"
      }
    },
    {
      "cell_type": "code",
      "execution_count": null,
      "metadata": {
        "id": "4I0JxXJpre-K"
      },
      "outputs": [],
      "source": [
        "def function_name():\n",
        "  function_body\n",
        "fumction_call()"
      ]
    },
    {
      "cell_type": "code",
      "source": [
        "def greet():\n",
        "  print(\"Hello welcome hoomns ☺ ☺ ☺\")\n",
        "greet()"
      ],
      "metadata": {
        "colab": {
          "base_uri": "https://localhost:8080/"
        },
        "id": "nGiWUUDrtT9s",
        "outputId": "77e74980-c943-41c4-f5d4-8e6131e8bcf4"
      },
      "execution_count": null,
      "outputs": [
        {
          "output_type": "stream",
          "name": "stdout",
          "text": [
            "Hello welcome hoomns ☺ ☺ ☺\n"
          ]
        }
      ]
    },
    {
      "cell_type": "code",
      "source": [
        "def greet():\n",
        "  pass"
      ],
      "metadata": {
        "id": "lmN2NDl6tlrX"
      },
      "execution_count": null,
      "outputs": []
    },
    {
      "cell_type": "code",
      "source": [
        "def greet(name):\n",
        "  print(f\"Hello {name},welcome to the program\")\n",
        "  print(f\"Hello ,Are you okay\")\n",
        "\n",
        "greet('annnnna')\n",
        "greet('neethuuu')\n",
        "greet('lekshmii')"
      ],
      "metadata": {
        "colab": {
          "base_uri": "https://localhost:8080/"
        },
        "id": "UBUWyxB3u8Bj",
        "outputId": "473c14da-687b-42b5-88a4-c499cf78f212"
      },
      "execution_count": null,
      "outputs": [
        {
          "output_type": "stream",
          "name": "stdout",
          "text": [
            "Hello annnnna,welcome to the program\n",
            "Hello ,Are you okay\n",
            "Hello neethuuu,welcome to the program\n",
            "Hello ,Are you okay\n",
            "Hello lekshmii,welcome to the program\n",
            "Hello ,Are you okay\n"
          ]
        }
      ]
    },
    {
      "cell_type": "code",
      "source": [
        "def greet(name,time):\n",
        "  print(f\"Hello {name}, welcome to the program\")\n",
        "\n",
        "  print(f\"your session will start at {time}\")\n",
        "\n",
        "greet('Annnnna','9 A.M')\n",
        "greet('Neethuuu','10 A.M')\n",
        "greet('Lekshmii' ,'11 A.M')\n",
        "#POSITIONAL ARGUMENT SO THE POSITIONS SHOULD BE CORRECT"
      ],
      "metadata": {
        "colab": {
          "base_uri": "https://localhost:8080/"
        },
        "id": "w--zJr8jv74p",
        "outputId": "e4cc3cce-c15e-4ff1-8ea5-3886cdc7d6e9"
      },
      "execution_count": null,
      "outputs": [
        {
          "output_type": "stream",
          "name": "stdout",
          "text": [
            "Hello Annnnna, welcome to the program\n",
            "your session will start at 9 A.M\n",
            "Hello Neethuuu, welcome to the program\n",
            "your session will start at 10 A.M\n",
            "Hello Lekshmii, welcome to the program\n",
            "your session will start at 11 A.M\n"
          ]
        }
      ]
    },
    {
      "cell_type": "code",
      "source": [
        "def greet(name,time='11 A.M'):\n",
        "  print(f\"Hello {name}, welcome to the program\")\n",
        "\n",
        "  print(f\"your session will start at {time}\")\n",
        "\n",
        "greet('Annnnna','9 A.M')\n",
        "greet('Neethuuu','10 A.M')\n",
        "greet('Lekshmii' ,'11.30 A.M')\n",
        "greet(\"Sheethal\")"
      ],
      "metadata": {
        "colab": {
          "base_uri": "https://localhost:8080/"
        },
        "id": "oQ2yy_-aw4UA",
        "outputId": "a6add5f7-ade1-491f-b7dc-f0233eb14aa1"
      },
      "execution_count": null,
      "outputs": [
        {
          "output_type": "stream",
          "name": "stdout",
          "text": [
            "Hello Annnnna, welcome to the program\n",
            "your session will start at 9 A.M\n",
            "Hello Neethuuu, welcome to the program\n",
            "your session will start at 10 A.M\n",
            "Hello Lekshmii, welcome to the program\n",
            "your session will start at 11.30 A.M\n",
            "Hello Sheethal, welcome to the program\n",
            "your session will start at 11 A.M\n"
          ]
        }
      ]
    },
    {
      "cell_type": "code",
      "source": [
        "num1=int(input(\"Enter num1 : \"))\n",
        "num2=int(input(\"Enter num2 : \"))\n",
        "def num(num1,num2):\n",
        "\n",
        "  print(\"Product\", num1 * num2)\n",
        "num(num1,num2)"
      ],
      "metadata": {
        "colab": {
          "base_uri": "https://localhost:8080/"
        },
        "id": "YSuZjFHmxl8X",
        "outputId": "1dad0918-a0e3-4dc1-b13b-6720d861b16c"
      },
      "execution_count": null,
      "outputs": [
        {
          "output_type": "stream",
          "name": "stdout",
          "text": [
            "Enter num1 : 4\n",
            "Enter num2 : 5\n",
            "Product 20\n"
          ]
        }
      ]
    },
    {
      "cell_type": "code",
      "source": [
        "def bill_amnt(n):\n",
        "  percentage=n/100*10\n",
        "  biil_amont=percentage+n\n",
        "  print(\"your amount is\",biil_amont)\n",
        "bill_amnt(500)\n",
        "\n"
      ],
      "metadata": {
        "colab": {
          "base_uri": "https://localhost:8080/"
        },
        "id": "SL2sYsvazHH1",
        "outputId": "96e66d12-f533-4570-d56f-b0a629b07233"
      },
      "execution_count": null,
      "outputs": [
        {
          "output_type": "stream",
          "name": "stdout",
          "text": [
            "your amount is 550.0\n"
          ]
        }
      ]
    },
    {
      "cell_type": "code",
      "source": [
        "def bill_amnt(n):\n",
        "  if 500>=n:\n",
        "    percentage=n/100*10\n",
        "    biil_amont=percentage+n\n",
        "\n",
        "  else  :\n",
        "    percentage=n/100*20\n",
        "    biil_amont=percentage+n\n",
        "  print(\"your amount is\",biil_amont)\n",
        "\n",
        "bill_amnt(400)\n",
        "bill_amnt(600)"
      ],
      "metadata": {
        "colab": {
          "base_uri": "https://localhost:8080/"
        },
        "id": "kNeGHYAJ3H1f",
        "outputId": "118bf6c6-763c-442e-f371-1b47369fa0dd"
      },
      "execution_count": null,
      "outputs": [
        {
          "output_type": "stream",
          "name": "stdout",
          "text": [
            "your amount is 440.0\n",
            "your amount is 720.0\n"
          ]
        }
      ]
    },
    {
      "cell_type": "code",
      "source": [
        "num_list=[12,4,56,5,23,24,58,9,11,18]\n",
        "def average_even(numberlist):\n",
        "  even_list=[]\n",
        "  odd_list=[]\n",
        "  for num in numberlist:\n",
        "    if num % 2== 0:\n",
        "      even_list.append(num)\n",
        "    elif num % 2!=0:\n",
        "      odd_list.append(num)\n",
        "  averageEven = sum(even_list)/len(even_list)\n",
        "  averageOdd = sum(odd_list)/len(odd_list)\n",
        "  print(even_list)\n",
        "  print(odd_list)\n",
        "  print(averageEven)\n",
        "  print(averageOdd)\n",
        "average_even(num_list)"
      ],
      "metadata": {
        "colab": {
          "base_uri": "https://localhost:8080/"
        },
        "id": "uMQr2scG3_LD",
        "outputId": "da1e2d38-be43-44e1-ec8a-e3b26eba1821"
      },
      "execution_count": null,
      "outputs": [
        {
          "output_type": "stream",
          "name": "stdout",
          "text": [
            "[12, 4, 56, 24, 58, 18]\n",
            "[5, 23, 9, 11]\n",
            "28.666666666666668\n",
            "12.0\n"
          ]
        }
      ]
    },
    {
      "cell_type": "code",
      "source": [
        "def sum_numbers(*args):\n",
        "  print(type(args))\n",
        "  total=0\n",
        "  for i in args:\n",
        "    total += i\n",
        "  print(total)\n",
        "sum_numbers(10,20,15,5)\n"
      ],
      "metadata": {
        "colab": {
          "base_uri": "https://localhost:8080/"
        },
        "id": "PUE1KiFx8kwT",
        "outputId": "e005afed-5f84-428f-9e2a-296ae4288503"
      },
      "execution_count": null,
      "outputs": [
        {
          "output_type": "stream",
          "name": "stdout",
          "text": [
            "<class 'tuple'>\n",
            "50\n"
          ]
        }
      ]
    },
    {
      "cell_type": "code",
      "source": [
        "def sum_numbers(**args):\n",
        "  for item,val in args.items():\n",
        "    print(f\"{item} is {val}\")\n",
        "\n",
        "sum_numbers(Name=\"Dewy\",place=\"TVM\",score=6)\n",
        "sum_numbers(name=\"Kiki\",place=\"EKM\",color=\"Black\")\n",
        "sum_numbers(name=\"Sticy\",place=\"KSD\",batch=\"DSA\")"
      ],
      "metadata": {
        "colab": {
          "base_uri": "https://localhost:8080/"
        },
        "id": "sbwUnqff_xLH",
        "outputId": "e8ad5623-23de-4bc7-98fd-b40fc0da4925"
      },
      "execution_count": null,
      "outputs": [
        {
          "output_type": "stream",
          "name": "stdout",
          "text": [
            "Name is Dewy\n",
            "place is TVM\n",
            "score is 6\n",
            "name is Kiki\n",
            "place is EKM\n",
            "color is Black\n",
            "name is Sticy\n",
            "place is KSD\n",
            "batch is DSA\n"
          ]
        }
      ]
    },
    {
      "cell_type": "code",
      "source": [
        "def sum_numbers(**args):\n",
        "  print(type(args))\n",
        "sum_numbers(name=\"Dewy\",place=\"TVM\",score=6)"
      ],
      "metadata": {
        "colab": {
          "base_uri": "https://localhost:8080/"
        },
        "id": "LmzZAzadAhrZ",
        "outputId": "6424d7b3-89ff-4b8d-dd5f-a894ac27e1b4"
      },
      "execution_count": null,
      "outputs": [
        {
          "output_type": "stream",
          "name": "stdout",
          "text": [
            "<class 'dict'>\n"
          ]
        }
      ]
    },
    {
      "cell_type": "code",
      "source": [
        "def squareofnum(x):\n",
        "  y=x * x\n",
        "  print(y)\n",
        "squareofnum(10)"
      ],
      "metadata": {
        "colab": {
          "base_uri": "https://localhost:8080/"
        },
        "id": "UItbwv7MCxUZ",
        "outputId": "4ff9acb5-72dd-4f6a-e3ed-59b5199aed1e"
      },
      "execution_count": null,
      "outputs": [
        {
          "output_type": "stream",
          "name": "stdout",
          "text": [
            "100\n"
          ]
        }
      ]
    },
    {
      "cell_type": "code",
      "source": [
        "square = lambda x : x*x\n",
        "square(5)"
      ],
      "metadata": {
        "colab": {
          "base_uri": "https://localhost:8080/"
        },
        "id": "gBd-OA69LUqZ",
        "outputId": "07b49627-2766-4b07-d5b3-7f7e7d3a1f28"
      },
      "execution_count": null,
      "outputs": [
        {
          "output_type": "execute_result",
          "data": {
            "text/plain": [
              "25"
            ]
          },
          "metadata": {},
          "execution_count": 71
        }
      ]
    },
    {
      "cell_type": "code",
      "source": [
        "pro = lambda x,y : x*y\n",
        "pro(5,2)"
      ],
      "metadata": {
        "colab": {
          "base_uri": "https://localhost:8080/"
        },
        "id": "DN8ChSACLlaW",
        "outputId": "c405d96a-b66e-4e64-cff6-4d45e820b709"
      },
      "execution_count": null,
      "outputs": [
        {
          "output_type": "execute_result",
          "data": {
            "text/plain": [
              "10"
            ]
          },
          "metadata": {},
          "execution_count": 73
        }
      ]
    },
    {
      "cell_type": "code",
      "source": [
        "add = lambda x,y : x+y\n",
        "add(5,6)"
      ],
      "metadata": {
        "colab": {
          "base_uri": "https://localhost:8080/"
        },
        "id": "DaRhUMNCMG5T",
        "outputId": "fbe5f4ae-3654-4ce9-a100-53b2783478d7"
      },
      "execution_count": null,
      "outputs": [
        {
          "output_type": "execute_result",
          "data": {
            "text/plain": [
              "11"
            ]
          },
          "metadata": {},
          "execution_count": 75
        }
      ]
    },
    {
      "cell_type": "code",
      "source": [
        "def totalmark(marks):\n",
        "  return (sum(marks))\n",
        "finalscore = totalmark([10,20,30,40,50,60,70])\n",
        "if finalscore >= 80:\n",
        "  print(\"Grade A\")\n",
        "elif finalscore >= 70:\n",
        "  print(\"Grade B\")\n",
        "elif finalscore >= 60:\n",
        "  print(\"Grade C\")\n",
        "elif finalscore >= 50:\n",
        "  print(\"Grade D\")\n",
        "elif finalscore >= 40:\n",
        "  print(\"Grade E\")"
      ],
      "metadata": {
        "colab": {
          "base_uri": "https://localhost:8080/"
        },
        "id": "el_u0cokMUEz",
        "outputId": "a9325ade-c2d9-4dd7-eec1-61193db25510"
      },
      "execution_count": null,
      "outputs": [
        {
          "output_type": "stream",
          "name": "stdout",
          "text": [
            "Grade A\n"
          ]
        }
      ]
    },
    {
      "cell_type": "markdown",
      "source": [
        "\n",
        "\n",
        "\n"
      ],
      "metadata": {
        "id": "IRgs1tMvPc-C"
      }
    },
    {
      "cell_type": "code",
      "source": [],
      "metadata": {
        "id": "pJyqpw3ENR2D"
      },
      "execution_count": null,
      "outputs": []
    }
  ]
}