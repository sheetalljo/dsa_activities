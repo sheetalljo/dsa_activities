{
  "nbformat": 4,
  "nbformat_minor": 0,
  "metadata": {
    "colab": {
      "provenance": [],
      "authorship_tag": "ABX9TyNF3gXbqAWnRbLYB1xCKgsO",
      "include_colab_link": true
    },
    "kernelspec": {
      "name": "python3",
      "display_name": "Python 3"
    },
    "language_info": {
      "name": "python"
    }
  },
  "cells": [
    {
      "cell_type": "markdown",
      "metadata": {
        "id": "view-in-github",
        "colab_type": "text"
      },
      "source": [
        "<a href=\"https://colab.research.google.com/github/sheetalljo/dsa_activities/blob/main/numpypandas_sheetal.ipynb\" target=\"_parent\"><img src=\"https://colab.research.google.com/assets/colab-badge.svg\" alt=\"Open In Colab\"/></a>"
      ]
    },
    {
      "cell_type": "code",
      "execution_count": 1,
      "metadata": {
        "colab": {
          "base_uri": "https://localhost:8080/"
        },
        "id": "9Kicmha7LBNg",
        "outputId": "81c56006-f0a7-49fb-9ade-d8f653c87178"
      },
      "outputs": [
        {
          "output_type": "stream",
          "name": "stdout",
          "text": [
            "Array from 10 to 49:\n",
            " [10 11 12 13 14 15 16 17 18 19 20 21 22 23 24 25 26 27 28 29 30 31 32 33\n",
            " 34 35 36 37 38 39 40 41 42 43 44 45 46 47 48 49]\n",
            "\n",
            "Reshaped 4x10 matrix:\n",
            " [[10 11 12 13 14 15 16 17 18 19]\n",
            " [20 21 22 23 24 25 26 27 28 29]\n",
            " [30 31 32 33 34 35 36 37 38 39]\n",
            " [40 41 42 43 44 45 46 47 48 49]]\n",
            "\n",
            "Last column:\n",
            " [19 29 39 49]\n"
          ]
        }
      ],
      "source": [
        "# Create array with values from 10 to 49 (inclusive)\n",
        "import numpy as np\n",
        "arr = np.arange(10, 50)\n",
        "matrix = arr.reshape(4, 10)\n",
        "last_col = matrix[:, -1]\n",
        "print(\"Array from 10 to 49:\\n\", arr)\n",
        "print(\"\\nReshaped 4x10 matrix:\\n\", matrix)\n",
        "print(\"\\nLast column:\\n\", last_col)\n"
      ]
    },
    {
      "cell_type": "code",
      "source": [
        "# Create two 3×3 matrices\n",
        "import numpy as np\n",
        "A = np.full((3, 3), 5)\n",
        "B = np.arange(1, 10).reshape(3, 3)\n",
        "add_result = A + B\n",
        "mul_result = A * B\n",
        "transpose_result = mul_result.T\n",
        "\n",
        "print(\"Matrix A (all 5s):\\n\", A)\n",
        "print(\"\\nMatrix B (1 to 9):\\n\", B)\n",
        "print(\"\\nAddition Result:\\n\", add_result)\n",
        "print(\"\\nElement-wise Multiplication Result:\\n\", mul_result)\n",
        "print(\"\\nTranspose of Multiplication Result:\\n\", transpose_result)\n"
      ],
      "metadata": {
        "colab": {
          "base_uri": "https://localhost:8080/"
        },
        "id": "LHy372lRLE7H",
        "outputId": "b43ae18e-bfc2-424d-bf61-193aa0843259"
      },
      "execution_count": 2,
      "outputs": [
        {
          "output_type": "stream",
          "name": "stdout",
          "text": [
            "Matrix A (all 5s):\n",
            " [[5 5 5]\n",
            " [5 5 5]\n",
            " [5 5 5]]\n",
            "\n",
            "Matrix B (1 to 9):\n",
            " [[1 2 3]\n",
            " [4 5 6]\n",
            " [7 8 9]]\n",
            "\n",
            "Addition Result:\n",
            " [[ 6  7  8]\n",
            " [ 9 10 11]\n",
            " [12 13 14]]\n",
            "\n",
            "Element-wise Multiplication Result:\n",
            " [[ 5 10 15]\n",
            " [20 25 30]\n",
            " [35 40 45]]\n",
            "\n",
            "Transpose of Multiplication Result:\n",
            " [[ 5 20 35]\n",
            " [10 25 40]\n",
            " [15 30 45]]\n"
          ]
        }
      ]
    },
    {
      "cell_type": "code",
      "source": [
        "# Create array of 15 random integers between 10 and 100\n",
        "import numpy as np\n",
        "arr = np.random.randint(10, 101, size=15)\n",
        "replaced_arr = arr.copy()\n",
        "replaced_arr[replaced_arr > 50] = -1\n",
        "count_replaced = np.sum(arr > 50)\n",
        "\n",
        "print(\"Original Array:\\n\", arr)\n",
        "print(\"\\nModified Array:\\n\", replaced_arr)\n",
        "print(\"\\nNumber of values replaced:\", count_replaced)\n"
      ],
      "metadata": {
        "colab": {
          "base_uri": "https://localhost:8080/"
        },
        "id": "wfvDl16yLPy8",
        "outputId": "691c6fdd-7d7f-48ef-ce24-caf1575d6bd3"
      },
      "execution_count": 3,
      "outputs": [
        {
          "output_type": "stream",
          "name": "stdout",
          "text": [
            "Original Array:\n",
            " [73 61 81 77 54 88 58 20 42 28 95 48 62 86 50]\n",
            "\n",
            "Modified Array:\n",
            " [-1 -1 -1 -1 -1 -1 -1 20 42 28 -1 48 -1 -1 50]\n",
            "\n",
            "Number of values replaced: 10\n"
          ]
        }
      ]
    },
    {
      "cell_type": "code",
      "source": [
        "import numpy as np\n",
        "arr = np.random.rand(5, 4)\n",
        "print(\"Original Array:\\n\", arr)\n",
        "row_sums = arr.sum(axis=1)\n",
        "max_row_index = np.argmax(row_sums)\n",
        "print(\"\\nRow sums:\", row_sums)\n",
        "print(\"Row with maximum sum is:\", max_row_index)\n",
        "normalized_arr = np.zeros_like(arr)\n",
        "for i, row in enumerate(arr):\n",
        "    row_min, row_max = row.min(), row.max()\n",
        "    normalized_arr[i] = (row - row_min) / (row_max - row_min)\n",
        "\n",
        "print(\"\\nNormalized Array:\\n\", normalized_arr)\n"
      ],
      "metadata": {
        "colab": {
          "base_uri": "https://localhost:8080/"
        },
        "id": "9SegQ4XVLSw9",
        "outputId": "fe0a4044-90d2-4ec1-e2c0-d29f829825e5"
      },
      "execution_count": 4,
      "outputs": [
        {
          "output_type": "stream",
          "name": "stdout",
          "text": [
            "Original Array:\n",
            " [[0.50283896 0.18114435 0.97656094 0.81450747]\n",
            " [0.9964493  0.59327047 0.05438899 0.38585316]\n",
            " [0.63817784 0.49090223 0.20756262 0.09821676]\n",
            " [0.95443823 0.57513013 0.01900145 0.22502751]\n",
            " [0.69848224 0.95638529 0.2006513  0.40350766]]\n",
            "\n",
            "Row sums: [2.47505172 2.02996192 1.43485945 1.77359732 2.25902648]\n",
            "Row with maximum sum is: 0\n",
            "\n",
            "Normalized Array:\n",
            " [[0.40443538 0.         1.         0.79626592]\n",
            " [1.         0.5720244  0.         0.35185026]\n",
            " [1.         0.72724773 0.20250693 0.        ]\n",
            " [1.         0.59451231 0.         0.22024584]\n",
            " [0.65873832 1.         0.         0.26842297]]\n"
          ]
        }
      ]
    },
    {
      "cell_type": "code",
      "source": [
        "import numpy as np\n",
        "arr = np.array([1, 3, 5, 3, 7, 9, 1, 5, 5])\n",
        "# Find all unique elements\n",
        "unique_elements = np.unique(arr)\n",
        "\n",
        "# Find duplicates (elements with count > 1)\n",
        "unique, counts = np.unique(arr, return_counts=True)\n",
        "duplicates = unique[counts > 1]\n",
        "\n",
        "print(\"Unique elements:\", unique_elements)\n",
        "print(\"Duplicates:\", duplicates)\n"
      ],
      "metadata": {
        "colab": {
          "base_uri": "https://localhost:8080/"
        },
        "id": "yFB4Y1afLUzZ",
        "outputId": "75e73ed3-f9b4-494b-fc77-897e7f30c255"
      },
      "execution_count": 5,
      "outputs": [
        {
          "output_type": "stream",
          "name": "stdout",
          "text": [
            "Unique elements: [1 3 5 7 9]\n",
            "Duplicates: [1 3 5]\n"
          ]
        }
      ]
    },
    {
      "cell_type": "code",
      "source": [
        "# Create a 6×6 NumPy array with values from 1 to 36.\n",
        "import numpy as np\n",
        "arr = np.arange(1, 37).reshape(6, 6)\n",
        "submatrix = arr[1:5, 1:5]\n",
        "even_numbers = submatrix[submatrix % 2 == 0]\n",
        "\n",
        "print(\"Original 6x6 Matrix:\\n\", arr)\n",
        "print(\"\\nMiddle 4x4 Submatrix:\\n\", submatrix)\n",
        "print(\"\\nEven numbers from Submatrix:\\n\", even_numbers)\n"
      ],
      "metadata": {
        "colab": {
          "base_uri": "https://localhost:8080/"
        },
        "id": "_bw0b8xJLWzV",
        "outputId": "6884641d-9f25-43ac-ba22-7cbaea2fdf1e"
      },
      "execution_count": 6,
      "outputs": [
        {
          "output_type": "stream",
          "name": "stdout",
          "text": [
            "Original 6x6 Matrix:\n",
            " [[ 1  2  3  4  5  6]\n",
            " [ 7  8  9 10 11 12]\n",
            " [13 14 15 16 17 18]\n",
            " [19 20 21 22 23 24]\n",
            " [25 26 27 28 29 30]\n",
            " [31 32 33 34 35 36]]\n",
            "\n",
            "Middle 4x4 Submatrix:\n",
            " [[ 8  9 10 11]\n",
            " [14 15 16 17]\n",
            " [20 21 22 23]\n",
            " [26 27 28 29]]\n",
            "\n",
            "Even numbers from Submatrix:\n",
            " [ 8 10 14 16 20 22 26 28]\n"
          ]
        }
      ]
    },
    {
      "cell_type": "code",
      "source": [
        "# Generate array of shape (3, 4) with values 0 to 11\n",
        "import numpy as np\n",
        "arr = np.arange(12).reshape(3, 4)\n",
        "reshaped_2x6 = arr.reshape(2, 6)\n",
        "flattened = arr.flatten()\n",
        "reshaped_4x3 = flattened.reshape(4, 3)\n",
        "\n",
        "print(\"Original (3x4) array:\\n\", arr)\n",
        "print(\"\\nReshaped (2x6) array:\\n\", reshaped_2x6)\n",
        "print(\"\\nFlattened 1D array:\\n\", flattened)\n",
        "print(\"\\nReshaped back to (4x3):\\n\", reshaped_4x3)\n"
      ],
      "metadata": {
        "colab": {
          "base_uri": "https://localhost:8080/"
        },
        "id": "tcEUDrStLZHH",
        "outputId": "9cf9be68-b8d5-4e8b-9159-9a6cf01774a1"
      },
      "execution_count": 7,
      "outputs": [
        {
          "output_type": "stream",
          "name": "stdout",
          "text": [
            "Original (3x4) array:\n",
            " [[ 0  1  2  3]\n",
            " [ 4  5  6  7]\n",
            " [ 8  9 10 11]]\n",
            "\n",
            "Reshaped (2x6) array:\n",
            " [[ 0  1  2  3  4  5]\n",
            " [ 6  7  8  9 10 11]]\n",
            "\n",
            "Flattened 1D array:\n",
            " [ 0  1  2  3  4  5  6  7  8  9 10 11]\n",
            "\n",
            "Reshaped back to (4x3):\n",
            " [[ 0  1  2]\n",
            " [ 3  4  5]\n",
            " [ 6  7  8]\n",
            " [ 9 10 11]]\n"
          ]
        }
      ]
    },
    {
      "cell_type": "code",
      "source": [
        "# Create an array: a = np.array([[1, 2], [3, 4]])\n",
        "import numpy as np\n",
        "a = np.array([[1, 2],\n",
        "              [3, 4]])\n",
        "\n",
        "a_new_row = np.vstack([a, [5, 6]])\n",
        "a_new_col = np.column_stack([a_new_row, [7, 8, 9]])\n",
        "\n",
        "print(\"Original array:\\n\", a)\n",
        "print(\"\\nAfter appending row [5, 6]:\\n\", a_new_row)\n",
        "print(\"\\nAfter appending column [7, 8, 9]:\\n\", a_new_col)\n"
      ],
      "metadata": {
        "colab": {
          "base_uri": "https://localhost:8080/"
        },
        "id": "eLBzKAvXLb-A",
        "outputId": "69fb9876-4939-460a-cf94-53df0c43a481"
      },
      "execution_count": 8,
      "outputs": [
        {
          "output_type": "stream",
          "name": "stdout",
          "text": [
            "Original array:\n",
            " [[1 2]\n",
            " [3 4]]\n",
            "\n",
            "After appending row [5, 6]:\n",
            " [[1 2]\n",
            " [3 4]\n",
            " [5 6]]\n",
            "\n",
            "After appending column [7, 8, 9]:\n",
            " [[1 2 7]\n",
            " [3 4 8]\n",
            " [5 6 9]]\n"
          ]
        }
      ]
    },
    {
      "cell_type": "code",
      "source": [
        "#Join them into a single array\n",
        "import numpy as np\n",
        "a = np.array([1, 2, 3])\n",
        "b = np.array([4, 5, 6])\n",
        "c = np.array([7, 8, 9])\n",
        "joined = np.concatenate([a, b, c])\n",
        "matrix = joined.reshape(3, 3)\n",
        "diagonal = np.diag(matrix)\n",
        "\n",
        "print(\"Joined array:\\n\", joined)\n",
        "print(\"\\nReshaped 3x3 matrix:\\n\", matrix)\n",
        "print(\"\\nDiagonal elements:\", diagonal)\n"
      ],
      "metadata": {
        "colab": {
          "base_uri": "https://localhost:8080/"
        },
        "id": "PJnW--u2LgTS",
        "outputId": "ed42b33e-97ca-443c-f0e2-ffcf548013b6"
      },
      "execution_count": 9,
      "outputs": [
        {
          "output_type": "stream",
          "name": "stdout",
          "text": [
            "Joined array:\n",
            " [1 2 3 4 5 6 7 8 9]\n",
            "\n",
            "Reshaped 3x3 matrix:\n",
            " [[1 2 3]\n",
            " [4 5 6]\n",
            " [7 8 9]]\n",
            "\n",
            "Diagonal elements: [1 5 9]\n"
          ]
        }
      ]
    },
    {
      "cell_type": "code",
      "source": [
        "# Create array of integers from 1 to 20\n",
        "import numpy as np\n",
        "arr = np.arange(1, 21)\n",
        "divisible = arr[(arr % 3 == 0) | (arr % 5 == 0)]\n",
        "count = divisible.size\n",
        "\n",
        "print(\"Original array:\\n\", arr)\n",
        "print(\"\\nValues divisible by 3 or 5:\\n\", divisible)\n",
        "print(\"\\nCount:\", count)\n"
      ],
      "metadata": {
        "colab": {
          "base_uri": "https://localhost:8080/"
        },
        "id": "t7uPaOgELier",
        "outputId": "6db2a780-62d3-432e-a896-0d68010bd6ae"
      },
      "execution_count": 10,
      "outputs": [
        {
          "output_type": "stream",
          "name": "stdout",
          "text": [
            "Original array:\n",
            " [ 1  2  3  4  5  6  7  8  9 10 11 12 13 14 15 16 17 18 19 20]\n",
            "\n",
            "Values divisible by 3 or 5:\n",
            " [ 3  5  6  9 10 12 15 18 20]\n",
            "\n",
            "Count: 9\n"
          ]
        }
      ]
    },
    {
      "cell_type": "code",
      "source": [
        "# Load the Titanic dataset and display the first 10 rows.\n",
        "import seaborn as sns\n",
        "import pandas as pd\n",
        "titanic = sns.load_dataset(\"titanic\")\n",
        "\n",
        "print(titanic.head(10))\n"
      ],
      "metadata": {
        "colab": {
          "base_uri": "https://localhost:8080/"
        },
        "id": "jhX-kbJHLt4X",
        "outputId": "5d42e41c-e352-4a9b-e90d-8cdb82ad570d"
      },
      "execution_count": 11,
      "outputs": [
        {
          "output_type": "stream",
          "name": "stdout",
          "text": [
            "   survived  pclass     sex   age  sibsp  parch     fare embarked   class  \\\n",
            "0         0       3    male  22.0      1      0   7.2500        S   Third   \n",
            "1         1       1  female  38.0      1      0  71.2833        C   First   \n",
            "2         1       3  female  26.0      0      0   7.9250        S   Third   \n",
            "3         1       1  female  35.0      1      0  53.1000        S   First   \n",
            "4         0       3    male  35.0      0      0   8.0500        S   Third   \n",
            "5         0       3    male   NaN      0      0   8.4583        Q   Third   \n",
            "6         0       1    male  54.0      0      0  51.8625        S   First   \n",
            "7         0       3    male   2.0      3      1  21.0750        S   Third   \n",
            "8         1       3  female  27.0      0      2  11.1333        S   Third   \n",
            "9         1       2  female  14.0      1      0  30.0708        C  Second   \n",
            "\n",
            "     who  adult_male deck  embark_town alive  alone  \n",
            "0    man        True  NaN  Southampton    no  False  \n",
            "1  woman       False    C    Cherbourg   yes  False  \n",
            "2  woman       False  NaN  Southampton   yes   True  \n",
            "3  woman       False    C  Southampton   yes  False  \n",
            "4    man        True  NaN  Southampton    no   True  \n",
            "5    man        True  NaN   Queenstown    no   True  \n",
            "6    man        True    E  Southampton    no   True  \n",
            "7  child       False  NaN  Southampton    no  False  \n",
            "8  woman       False  NaN  Southampton   yes  False  \n",
            "9  child       False  NaN    Cherbourg   yes  False  \n"
          ]
        }
      ]
    },
    {
      "cell_type": "code",
      "source": [
        "# Find the number of missing values in each column.\n",
        "import seaborn as sns\n",
        "import pandas as pd\n",
        "titanic = sns.load_dataset(\"titanic\")\n",
        "\n",
        "missing_values = titanic.isnull().sum()\n",
        "\n",
        "print(\"Missing values per column:\\n\", missing_values)\n"
      ],
      "metadata": {
        "colab": {
          "base_uri": "https://localhost:8080/"
        },
        "id": "3Ojp_L8ILv7h",
        "outputId": "c2ae1c8e-8db7-4b06-dc82-18335a1db52a"
      },
      "execution_count": 12,
      "outputs": [
        {
          "output_type": "stream",
          "name": "stdout",
          "text": [
            "Missing values per column:\n",
            " survived         0\n",
            "pclass           0\n",
            "sex              0\n",
            "age            177\n",
            "sibsp            0\n",
            "parch            0\n",
            "fare             0\n",
            "embarked         2\n",
            "class            0\n",
            "who              0\n",
            "adult_male       0\n",
            "deck           688\n",
            "embark_town      2\n",
            "alive            0\n",
            "alone            0\n",
            "dtype: int64\n"
          ]
        }
      ]
    },
    {
      "cell_type": "code",
      "source": [
        "# Find the percentage of passengers who survived, grouped by gender.\n",
        "import seaborn as sns\n",
        "import pandas as pd\n",
        "titanic = sns.load_dataset(\"titanic\")\n",
        "survival_by_gender = titanic.groupby(\"sex\")[\"survived\"].mean() * 100\n",
        "\n",
        "print(\"Survival percentage by gender:\\n\", survival_by_gender)\n"
      ],
      "metadata": {
        "colab": {
          "base_uri": "https://localhost:8080/"
        },
        "id": "zh2ti2O3Lxz7",
        "outputId": "cb35f620-21be-44ae-b4e4-5affb29ef981"
      },
      "execution_count": 13,
      "outputs": [
        {
          "output_type": "stream",
          "name": "stdout",
          "text": [
            "Survival percentage by gender:\n",
            " sex\n",
            "female    74.203822\n",
            "male      18.890815\n",
            "Name: survived, dtype: float64\n"
          ]
        }
      ]
    },
    {
      "cell_type": "code",
      "source": [
        "# Find the average, median, and standard deviation of passenger ages.\n",
        "import seaborn as sns\n",
        "import pandas as pd\n",
        "titanic = sns.load_dataset(\"titanic\")\n",
        "avg_age = titanic[\"age\"].mean()\n",
        "median_age = titanic[\"age\"].median()\n",
        "std_age = titanic[\"age\"].std()\n",
        "\n",
        "print(\"Average Age:\", avg_age)\n",
        "print(\"Median Age:\", median_age)\n",
        "print(\"Standard Deviation of Age:\", std_age)\n"
      ],
      "metadata": {
        "colab": {
          "base_uri": "https://localhost:8080/"
        },
        "id": "8ToQG1FIL0RO",
        "outputId": "2f8a23c5-63f8-46de-d55c-095e863c96e8"
      },
      "execution_count": 14,
      "outputs": [
        {
          "output_type": "stream",
          "name": "stdout",
          "text": [
            "Average Age: 29.69911764705882\n",
            "Median Age: 28.0\n",
            "Standard Deviation of Age: 14.526497332334044\n"
          ]
        }
      ]
    },
    {
      "cell_type": "code",
      "source": [
        "# Count how many passengers were in each class (pclass).\n",
        "import seaborn as sns\n",
        "import pandas as pd\n",
        "titanic = sns.load_dataset(\"titanic\")\n",
        "class_counts = titanic[\"pclass\"].value_counts()\n",
        "\n",
        "print(\"Passenger count by class:\\n\", class_counts)"
      ],
      "metadata": {
        "colab": {
          "base_uri": "https://localhost:8080/"
        },
        "id": "7xMhTJPVL2UG",
        "outputId": "0ddc2407-0db3-41b7-db03-d29c2ecc67ff"
      },
      "execution_count": 18,
      "outputs": [
        {
          "output_type": "stream",
          "name": "stdout",
          "text": [
            "Passenger count by class:\n",
            " pclass\n",
            "3    491\n",
            "1    216\n",
            "2    184\n",
            "Name: count, dtype: int64\n"
          ]
        }
      ]
    },
    {
      "cell_type": "code",
      "source": [
        "# Show all passengers who were female, under age 18, and survived\n",
        "import seaborn as sns\n",
        "import pandas as pd\n",
        "\n",
        "titanic = sns.load_dataset(\"titanic\")\n",
        "female_young_survivors = titanic[\n",
        "    (titanic[\"sex\"] == \"female\") &\n",
        "    (titanic[\"age\"] < 18) &\n",
        "    (titanic[\"survived\"] == 1)\n",
        "]\n",
        "\n",
        "print(\"Female passengers under 18 who survived:\\n\")\n",
        "print(female_young_survivors)\n"
      ],
      "metadata": {
        "colab": {
          "base_uri": "https://localhost:8080/"
        },
        "id": "2zN8Dpk-L5tk",
        "outputId": "b5f9a575-f231-4930-fad0-63038afaae22"
      },
      "execution_count": 16,
      "outputs": [
        {
          "output_type": "stream",
          "name": "stdout",
          "text": [
            "Female passengers under 18 who survived:\n",
            "\n",
            "     survived  pclass     sex    age  sibsp  parch      fare embarked   class  \\\n",
            "9           1       2  female  14.00      1      0   30.0708        C  Second   \n",
            "10          1       3  female   4.00      1      1   16.7000        S   Third   \n",
            "22          1       3  female  15.00      0      0    8.0292        Q   Third   \n",
            "39          1       3  female  14.00      1      0   11.2417        C   Third   \n",
            "43          1       2  female   3.00      1      2   41.5792        C  Second   \n",
            "58          1       2  female   5.00      1      2   27.7500        S  Second   \n",
            "68          1       3  female  17.00      4      2    7.9250        S   Third   \n",
            "84          1       2  female  17.00      0      0   10.5000        S  Second   \n",
            "156         1       3  female  16.00      0      0    7.7333        Q   Third   \n",
            "172         1       3  female   1.00      1      1   11.1333        S   Third   \n",
            "184         1       3  female   4.00      0      2   22.0250        S   Third   \n",
            "208         1       3  female  16.00      0      0    7.7500        Q   Third   \n",
            "233         1       3  female   5.00      4      2   31.3875        S   Third   \n",
            "237         1       2  female   8.00      0      2   26.2500        S  Second   \n",
            "307         1       1  female  17.00      1      0  108.9000        C   First   \n",
            "329         1       1  female  16.00      0      1   57.9792        C   First   \n",
            "381         1       3  female   1.00      0      2   15.7417        C   Third   \n",
            "389         1       2  female  17.00      0      0   12.0000        C  Second   \n",
            "435         1       1  female  14.00      1      2  120.0000        S   First   \n",
            "446         1       2  female  13.00      0      1   19.5000        S  Second   \n",
            "448         1       3  female   5.00      2      1   19.2583        C   Third   \n",
            "469         1       3  female   0.75      2      1   19.2583        C   Third   \n",
            "479         1       3  female   2.00      0      1   12.2875        S   Third   \n",
            "504         1       1  female  16.00      0      0   86.5000        S   First   \n",
            "530         1       2  female   2.00      1      1   26.0000        S  Second   \n",
            "535         1       2  female   7.00      0      2   26.2500        S  Second   \n",
            "618         1       2  female   4.00      2      1   39.0000        S  Second   \n",
            "644         1       3  female   0.75      2      1   19.2583        C   Third   \n",
            "689         1       1  female  15.00      0      1  211.3375        S   First   \n",
            "691         1       3  female   4.00      0      1   13.4167        C   Third   \n",
            "720         1       2  female   6.00      0      1   33.0000        S  Second   \n",
            "750         1       2  female   4.00      1      1   23.0000        S  Second   \n",
            "777         1       3  female   5.00      0      0   12.4750        S   Third   \n",
            "780         1       3  female  13.00      0      0    7.2292        C   Third   \n",
            "781         1       1  female  17.00      1      0   57.0000        S   First   \n",
            "830         1       3  female  15.00      1      0   14.4542        C   Third   \n",
            "853         1       1  female  16.00      0      1   39.4000        S   First   \n",
            "875         1       3  female  15.00      0      0    7.2250        C   Third   \n",
            "\n",
            "       who  adult_male deck  embark_town alive  alone  \n",
            "9    child       False  NaN    Cherbourg   yes  False  \n",
            "10   child       False    G  Southampton   yes  False  \n",
            "22   child       False  NaN   Queenstown   yes   True  \n",
            "39   child       False  NaN    Cherbourg   yes  False  \n",
            "43   child       False  NaN    Cherbourg   yes  False  \n",
            "58   child       False  NaN  Southampton   yes  False  \n",
            "68   woman       False  NaN  Southampton   yes  False  \n",
            "84   woman       False  NaN  Southampton   yes   True  \n",
            "156  woman       False  NaN   Queenstown   yes   True  \n",
            "172  child       False  NaN  Southampton   yes  False  \n",
            "184  child       False  NaN  Southampton   yes  False  \n",
            "208  woman       False  NaN   Queenstown   yes   True  \n",
            "233  child       False  NaN  Southampton   yes  False  \n",
            "237  child       False  NaN  Southampton   yes  False  \n",
            "307  woman       False    C    Cherbourg   yes  False  \n",
            "329  woman       False    B    Cherbourg   yes  False  \n",
            "381  child       False  NaN    Cherbourg   yes  False  \n",
            "389  woman       False  NaN    Cherbourg   yes   True  \n",
            "435  child       False    B  Southampton   yes  False  \n",
            "446  child       False  NaN  Southampton   yes  False  \n",
            "448  child       False  NaN    Cherbourg   yes  False  \n",
            "469  child       False  NaN    Cherbourg   yes  False  \n",
            "479  child       False  NaN  Southampton   yes  False  \n",
            "504  woman       False    B  Southampton   yes   True  \n",
            "530  child       False  NaN  Southampton   yes  False  \n",
            "535  child       False  NaN  Southampton   yes  False  \n",
            "618  child       False    F  Southampton   yes  False  \n",
            "644  child       False  NaN    Cherbourg   yes  False  \n",
            "689  child       False    B  Southampton   yes  False  \n",
            "691  child       False  NaN    Cherbourg   yes  False  \n",
            "720  child       False  NaN  Southampton   yes  False  \n",
            "750  child       False  NaN  Southampton   yes  False  \n",
            "777  child       False  NaN  Southampton   yes   True  \n",
            "780  child       False  NaN    Cherbourg   yes   True  \n",
            "781  woman       False    B  Southampton   yes  False  \n",
            "830  child       False  NaN    Cherbourg   yes  False  \n",
            "853  woman       False    D  Southampton   yes  False  \n",
            "875  child       False  NaN    Cherbourg   yes   True  \n"
          ]
        }
      ]
    },
    {
      "cell_type": "code",
      "source": [
        "# Replace missing age values with the median age.\n",
        "import seaborn as sns\n",
        "import pandas as pd\n",
        "\n",
        "titanic = sns.load_dataset(\"titanic\")\n",
        "\n",
        "median_age = titanic[\"age\"].median()\n",
        "print(\"Median Age used for replacement:\", median_age)\n",
        "titanic[\"age\"] = titanic[\"age\"].fillna(median_age)\n",
        "\n"
      ],
      "metadata": {
        "colab": {
          "base_uri": "https://localhost:8080/"
        },
        "id": "j9MpE4WJL8Cd",
        "outputId": "507fa535-31f3-4f03-d400-465c09301a6c"
      },
      "execution_count": 19,
      "outputs": [
        {
          "output_type": "stream",
          "name": "stdout",
          "text": [
            "Median Age used for replacement: 28.0\n"
          ]
        }
      ]
    },
    {
      "cell_type": "code",
      "source": [
        "# Create a column age_group with values:\n",
        "import seaborn as sns\n",
        "import pandas as pd\n",
        "import numpy as np\n",
        "\n",
        "titanic = sns.load_dataset(\"titanic\")\n",
        "titanic[\"age\"] = titanic[\"age\"].fillna(titanic[\"age\"].median())\n",
        "\n",
        "titanic[\"age_group\"] = np.where(titanic[\"age\"] < 18, \"Child\",\n",
        "                        np.where(titanic[\"age\"] <= 60, \"Adult\", \"Senior\"))\n",
        "\n",
        "print(titanic[[\"age\", \"age_group\"]].head(15))\n"
      ],
      "metadata": {
        "colab": {
          "base_uri": "https://localhost:8080/"
        },
        "id": "aFohpC01MaI8",
        "outputId": "5f64467a-633a-4c47-fe95-25a10ca2e97b"
      },
      "execution_count": 20,
      "outputs": [
        {
          "output_type": "stream",
          "name": "stdout",
          "text": [
            "     age age_group\n",
            "0   22.0     Adult\n",
            "1   38.0     Adult\n",
            "2   26.0     Adult\n",
            "3   35.0     Adult\n",
            "4   35.0     Adult\n",
            "5   28.0     Adult\n",
            "6   54.0     Adult\n",
            "7    2.0     Child\n",
            "8   27.0     Adult\n",
            "9   14.0     Child\n",
            "10   4.0     Child\n",
            "11  58.0     Adult\n",
            "12  20.0     Adult\n",
            "13  39.0     Adult\n",
            "14  14.0     Child\n"
          ]
        }
      ]
    },
    {
      "cell_type": "code",
      "source": [
        "# Display the top 5 passengers who paid the highest fare.\n",
        "import seaborn as sns\n",
        "import pandas as pd\n",
        "\n",
        "titanic = sns.load_dataset(\"titanic\")\n",
        "top5_fares = titanic.sort_values(\"fare\", ascending=False).head(5)\n",
        "\n",
        "print(\"Top 5 passengers who paid the highest fare:\\n\")\n",
        "print(top5_fares[[\"sex\", \"pclass\", \"age\", \"fare\", \"embarked\", \"survived\"]])\n"
      ],
      "metadata": {
        "colab": {
          "base_uri": "https://localhost:8080/"
        },
        "id": "k2sqKqhRMcPO",
        "outputId": "a9a64b78-7e11-4ec1-8a06-55076be8253e"
      },
      "execution_count": 21,
      "outputs": [
        {
          "output_type": "stream",
          "name": "stdout",
          "text": [
            "Top 5 passengers who paid the highest fare:\n",
            "\n",
            "        sex  pclass   age      fare embarked  survived\n",
            "679    male       1  36.0  512.3292        C         1\n",
            "258  female       1  35.0  512.3292        C         1\n",
            "737    male       1  35.0  512.3292        C         1\n",
            "88   female       1  23.0  263.0000        S         1\n",
            "438    male       1  64.0  263.0000        S         0\n"
          ]
        }
      ]
    },
    {
      "cell_type": "code",
      "source": [
        "# Find the average fare paid, grouped by both pclass and sex.\n",
        "import seaborn as sns\n",
        "import pandas as pd\n",
        "\n",
        "titanic = sns.load_dataset(\"titanic\")\n",
        "avg_fare = titanic.groupby([\"pclass\", \"sex\"])[\"fare\"].mean()\n",
        "\n",
        "print(\"Average fare by class and gender:\\n\")\n",
        "print(avg_fare)\n"
      ],
      "metadata": {
        "colab": {
          "base_uri": "https://localhost:8080/"
        },
        "id": "SvO0zeH6Mewx",
        "outputId": "e5e1010e-3035-4a6b-b98d-9079f4522c8c"
      },
      "execution_count": 22,
      "outputs": [
        {
          "output_type": "stream",
          "name": "stdout",
          "text": [
            "Average fare by class and gender:\n",
            "\n",
            "pclass  sex   \n",
            "1       female    106.125798\n",
            "        male       67.226127\n",
            "2       female     21.970121\n",
            "        male       19.741782\n",
            "3       female     16.118810\n",
            "        male       12.661633\n",
            "Name: fare, dtype: float64\n"
          ]
        }
      ]
    },
    {
      "cell_type": "code",
      "source": [
        "# Rename columns\n",
        "import seaborn as sns\n",
        "import pandas as pd\n",
        "\n",
        "titanic = sns.load_dataset(\"titanic\")\n",
        "titanic.rename(columns={\"sex\": \"gender\", \"fare\": \"ticket_fare\"}, inplace=True)\n",
        "\n",
        "print(titanic.head())\n"
      ],
      "metadata": {
        "colab": {
          "base_uri": "https://localhost:8080/"
        },
        "id": "qVc4HbAPMj5y",
        "outputId": "afea29b6-a8ed-4d5d-832e-73855d213505"
      },
      "execution_count": 23,
      "outputs": [
        {
          "output_type": "stream",
          "name": "stdout",
          "text": [
            "   survived  pclass  gender   age  sibsp  parch  ticket_fare embarked  class  \\\n",
            "0         0       3    male  22.0      1      0       7.2500        S  Third   \n",
            "1         1       1  female  38.0      1      0      71.2833        C  First   \n",
            "2         1       3  female  26.0      0      0       7.9250        S  Third   \n",
            "3         1       1  female  35.0      1      0      53.1000        S  First   \n",
            "4         0       3    male  35.0      0      0       8.0500        S  Third   \n",
            "\n",
            "     who  adult_male deck  embark_town alive  alone  \n",
            "0    man        True  NaN  Southampton    no  False  \n",
            "1  woman       False    C    Cherbourg   yes  False  \n",
            "2  woman       False  NaN  Southampton   yes   True  \n",
            "3  woman       False    C  Southampton   yes  False  \n",
            "4    man        True  NaN  Southampton    no   True  \n"
          ]
        }
      ]
    },
    {
      "cell_type": "code",
      "source": [
        "# Count the number of passengers who survived and didn’t survive, grouped by class.\n",
        "import seaborn as sns\n",
        "import pandas as pd\n",
        "\n",
        "titanic = sns.load_dataset(\"titanic\")\n",
        "survival_counts = titanic.groupby([\"pclass\", \"survived\"]).size().unstack()\n",
        "\n",
        "print(\"Passenger survival counts by class:\\n\")\n",
        "print(survival_counts)\n"
      ],
      "metadata": {
        "colab": {
          "base_uri": "https://localhost:8080/"
        },
        "id": "evZyULJwMmG6",
        "outputId": "3f407dda-aca3-4c36-b733-c57fe47a9d2f"
      },
      "execution_count": 24,
      "outputs": [
        {
          "output_type": "stream",
          "name": "stdout",
          "text": [
            "Passenger survival counts by class:\n",
            "\n",
            "survived    0    1\n",
            "pclass            \n",
            "1          80  136\n",
            "2          97   87\n",
            "3         372  119\n"
          ]
        }
      ]
    },
    {
      "cell_type": "code",
      "source": [
        "# Find the average age of passengers grouped by both class and gender.\n",
        "import seaborn as sns\n",
        "import pandas as pd\n",
        "\n",
        "titanic = sns.load_dataset(\"titanic\")\n",
        "titanic[\"age\"] = titanic[\"age\"].fillna(titanic[\"age\"].median())\n",
        "avg_age = titanic.groupby([\"pclass\", \"sex\"])[\"age\"].mean()\n",
        "\n",
        "print(\"Average age of passengers grouped by class and gender:\\n\")\n",
        "print(avg_age)\n"
      ],
      "metadata": {
        "colab": {
          "base_uri": "https://localhost:8080/"
        },
        "id": "-BLIRes6Mool",
        "outputId": "332aa2f0-b864-45af-ec26-8828b1e91250"
      },
      "execution_count": 25,
      "outputs": [
        {
          "output_type": "stream",
          "name": "stdout",
          "text": [
            "Average age of passengers grouped by class and gender:\n",
            "\n",
            "pclass  sex   \n",
            "1       female    33.978723\n",
            "        male      38.995246\n",
            "2       female    28.703947\n",
            "        male      30.512315\n",
            "3       female    23.572917\n",
            "        male      26.911873\n",
            "Name: age, dtype: float64\n"
          ]
        }
      ]
    },
    {
      "cell_type": "code",
      "source": [],
      "metadata": {
        "id": "8zw6G1pgMrAr"
      },
      "execution_count": null,
      "outputs": []
    }
  ]
}